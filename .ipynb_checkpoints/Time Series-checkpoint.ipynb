{
 "cells": [
  {
   "cell_type": "code",
   "execution_count": 92,
   "metadata": {
    "collapsed": false
   },
   "outputs": [],
   "source": [
    "import os\n",
    "import pandas as pd\n",
    "import math\n",
    "import numpy as np\n",
    "import matplotlib.pyplot as plt\n",
    "%matplotlib inline\n",
    "\n",
    "\n",
    "x =  np.loadtxt('d00.dat')\n",
    "x = x.transpose() "
   ]
  },
  {
   "cell_type": "code",
   "execution_count": 93,
   "metadata": {
    "collapsed": false
   },
   "outputs": [
    {
     "data": {
      "text/plain": [
       "(500, 52)"
      ]
     },
     "execution_count": 93,
     "metadata": {},
     "output_type": "execute_result"
    }
   ],
   "source": [
    "x.shape"
   ]
  },
  {
   "cell_type": "code",
   "execution_count": 94,
   "metadata": {
    "collapsed": false
   },
   "outputs": [
    {
     "data": {
      "text/plain": [
       "3663.6499999999996"
      ]
     },
     "execution_count": 94,
     "metadata": {},
     "output_type": "execute_result"
    }
   ],
   "source": [
    "np.median(x[:,1])"
   ]
  },
  {
   "cell_type": "code",
   "execution_count": 95,
   "metadata": {
    "collapsed": false
   },
   "outputs": [],
   "source": [
    "m = np.zeros(52)\n",
    "for j in range(52):\n",
    "    m[j] = np.median(x[:,j])"
   ]
  },
  {
   "cell_type": "code",
   "execution_count": 96,
   "metadata": {
    "collapsed": false
   },
   "outputs": [
    {
     "data": {
      "text/plain": [
       "array([  2.50245000e-01,   3.66365000e+03,   4.51230000e+03,\n",
       "         9.34345000e+00,   2.68995000e+01,   4.23535000e+01,\n",
       "         2.70590000e+03,   7.49795000e+01,   1.20400000e+02,\n",
       "         3.37140000e-01,   8.00895000e+01,   5.00395000e+01,\n",
       "         2.63500000e+03,   2.51470000e+01,   5.00145000e+01,\n",
       "         3.10315000e+03,   2.29160000e+01,   6.57125000e+01,\n",
       "         2.30630000e+02,   3.41620000e+02,   9.45940000e+01,\n",
       "         7.72925000e+01,   3.21980000e+01,   8.88965000e+00,\n",
       "         2.63935000e+01,   6.88410000e+00,   1.87685000e+01,\n",
       "         1.65310000e+00,   3.30275000e+01,   1.38275000e+01,\n",
       "         2.40285000e+01,   1.25480000e+00,   1.85860000e+01,\n",
       "         2.25955000e+00,   4.84190000e+00,   2.29880000e+00,\n",
       "         1.70310000e-02,   8.36260000e-01,   9.77375000e-02,\n",
       "         5.36900000e+01,   4.38530000e+01,   6.30430000e+01,\n",
       "         5.40295000e+01,   2.46065000e+01,   6.12965000e+01,\n",
       "         2.22805000e+01,   4.00775000e+01,   3.82160000e+01,\n",
       "         4.65680000e+01,   4.75365000e+01,   4.10645000e+01,\n",
       "         1.82220000e+01])"
      ]
     },
     "execution_count": 96,
     "metadata": {},
     "output_type": "execute_result"
    }
   ],
   "source": [
    "m"
   ]
  },
  {
   "cell_type": "code",
   "execution_count": 97,
   "metadata": {
    "collapsed": false
   },
   "outputs": [],
   "source": [
    "q = np.zeros((500,52))\n"
   ]
  },
  {
   "cell_type": "code",
   "execution_count": 98,
   "metadata": {
    "collapsed": false
   },
   "outputs": [],
   "source": [
    "for i in range(500):\n",
    "    for j in range(52):\n",
    "        q[i,j] = m[j]"
   ]
  },
  {
   "cell_type": "code",
   "execution_count": 99,
   "metadata": {
    "collapsed": false
   },
   "outputs": [
    {
     "data": {
      "text/plain": [
       "array([[  2.50245000e-01,   3.66365000e+03,   4.51230000e+03, ...,\n",
       "          4.75365000e+01,   4.10645000e+01,   1.82220000e+01],\n",
       "       [  2.50245000e-01,   3.66365000e+03,   4.51230000e+03, ...,\n",
       "          4.75365000e+01,   4.10645000e+01,   1.82220000e+01],\n",
       "       [  2.50245000e-01,   3.66365000e+03,   4.51230000e+03, ...,\n",
       "          4.75365000e+01,   4.10645000e+01,   1.82220000e+01],\n",
       "       ..., \n",
       "       [  2.50245000e-01,   3.66365000e+03,   4.51230000e+03, ...,\n",
       "          4.75365000e+01,   4.10645000e+01,   1.82220000e+01],\n",
       "       [  2.50245000e-01,   3.66365000e+03,   4.51230000e+03, ...,\n",
       "          4.75365000e+01,   4.10645000e+01,   1.82220000e+01],\n",
       "       [  2.50245000e-01,   3.66365000e+03,   4.51230000e+03, ...,\n",
       "          4.75365000e+01,   4.10645000e+01,   1.82220000e+01]])"
      ]
     },
     "execution_count": 99,
     "metadata": {},
     "output_type": "execute_result"
    }
   ],
   "source": [
    "q"
   ]
  },
  {
   "cell_type": "code",
   "execution_count": 100,
   "metadata": {
    "collapsed": false
   },
   "outputs": [
    {
     "data": {
      "image/png": "[encoded data removed]",
      "text/plain": [
       "<matplotlib.figure.Figure at 0x7fb0640c6e80>"
      ]
     },
     "metadata": {},
     "output_type": "display_data"
    }
   ],
   "source": [
    "for i in range(52):\n",
    "    plt.plot(q[:,i])"
   ]
  },
  {
   "cell_type": "code",
   "execution_count": 101,
   "metadata": {
    "collapsed": true
   },
   "outputs": [],
   "source": [
    "#for i in range(22):\n",
    "#    newpath = r'/home/jose/Dropbox/Computação/TCC/TE_process/dat{}_te'.format(i)\n",
    " #   if not os.path.exists(newpath):\n",
    "   #    os.makedirs(newpath)"
   ]
  },
  {
   "cell_type": "code",
   "execution_count": null,
   "metadata": {
    "collapsed": false
   },
   "outputs": [],
   "source": []
  },
  {
   "cell_type": "code",
   "execution_count": 102,
   "metadata": {
    "collapsed": true
   },
   "outputs": [],
   "source": [
    "d = np.zeros(52)"
   ]
  },
  {
   "cell_type": "code",
   "execution_count": 103,
   "metadata": {
    "collapsed": false
   },
   "outputs": [],
   "source": [
    "for i in range(52):\n",
    "    d[i] = np.std(x[:,i])"
   ]
  },
  {
   "cell_type": "code",
   "execution_count": 104,
   "metadata": {
    "collapsed": false
   },
   "outputs": [
    {
     "data": {
      "text/plain": [
       "array([  2.85227593e-02,   3.19995386e+01,   3.16928160e+01,\n",
       "         7.64373299e-02,   2.08455156e-01,   2.20753844e-01,\n",
       "         5.25811879e+00,   5.27677902e-01,   1.86356218e-02,\n",
       "         1.16760041e-02,   1.94038106e-01,   1.03306041e+00,\n",
       "         5.52768342e+00,   1.06290771e+00,   1.01657016e+00,\n",
       "         4.58804082e+00,   6.26178410e-01,   3.42039239e-01,\n",
       "         8.13919821e+00,   1.22193868e+00,   1.19180421e-01,\n",
       "         2.48266350e-01,   2.80750811e-01,   9.89352694e-02,\n",
       "         2.72145896e-01,   1.02346656e-01,   2.42114689e-01,\n",
       "         2.51886127e-02,   3.14203326e-01,   1.01756024e-01,\n",
       "         3.13771228e-01,   1.03908679e-01,   3.02521368e-01,\n",
       "         2.62272734e-02,   5.77916355e-02,   5.23896203e-02,\n",
       "         9.02364889e-03,   1.43635177e-02,   9.54037219e-03,\n",
       "         5.35161184e-01,   4.88622027e-01,   5.57608390e-01,\n",
       "         4.27322242e-01,   2.82229064e+00,   1.18411466e+00,\n",
       "         4.13274298e-01,   1.43658959e+00,   3.04010722e+00,\n",
       "         2.35265686e+00,   2.12091694e+00,   5.25031709e-01,\n",
       "         1.48656651e+00])"
      ]
     },
     "execution_count": 104,
     "metadata": {},
     "output_type": "execute_result"
    }
   ],
   "source": [
    "d"
   ]
  },
  {
   "cell_type": "code",
   "execution_count": 105,
   "metadata": {
    "collapsed": true
   },
   "outputs": [],
   "source": [
    "dd = np.zeros((500,52))"
   ]
  },
  {
   "cell_type": "code",
   "execution_count": 106,
   "metadata": {
    "collapsed": true
   },
   "outputs": [],
   "source": [
    "for i in range(500):\n",
    "    for j in range(52):\n",
    "        dd[i,j] = d[j]"
   ]
  },
  {
   "cell_type": "code",
   "execution_count": 110,
   "metadata": {
    "collapsed": false
   },
   "outputs": [
    {
     "data": {
      "text/plain": [
       "array([[  2.85227593e-02,   3.19995386e+01,   3.16928160e+01, ...,\n",
       "          2.12091694e+00,   5.25031709e-01,   1.48656651e+00],\n",
       "       [  2.85227593e-02,   3.19995386e+01,   3.16928160e+01, ...,\n",
       "          2.12091694e+00,   5.25031709e-01,   1.48656651e+00],\n",
       "       [  2.85227593e-02,   3.19995386e+01,   3.16928160e+01, ...,\n",
       "          2.12091694e+00,   5.25031709e-01,   1.48656651e+00],\n",
       "       ..., \n",
       "       [  2.85227593e-02,   3.19995386e+01,   3.16928160e+01, ...,\n",
       "          2.12091694e+00,   5.25031709e-01,   1.48656651e+00],\n",
       "       [  2.85227593e-02,   3.19995386e+01,   3.16928160e+01, ...,\n",
       "          2.12091694e+00,   5.25031709e-01,   1.48656651e+00],\n",
       "       [  2.85227593e-02,   3.19995386e+01,   3.16928160e+01, ...,\n",
       "          2.12091694e+00,   5.25031709e-01,   1.48656651e+00]])"
      ]
     },
     "execution_count": 110,
     "metadata": {},
     "output_type": "execute_result"
    }
   ],
   "source": [
    "dd"
   ]
  },
  {
   "cell_type": "code",
   "execution_count": 115,
   "metadata": {
    "collapsed": true
   },
   "outputs": [],
   "source": [
    "std1 = dd+q"
   ]
  },
  {
   "cell_type": "code",
   "execution_count": 116,
   "metadata": {
    "collapsed": true
   },
   "outputs": [],
   "source": [
    "std2 = q-dd"
   ]
  },
  {
   "cell_type": "code",
   "execution_count": 117,
   "metadata": {
    "collapsed": false
   },
   "outputs": [],
   "source": [
    "for i in range(52):\n",
    "    fig, ax = plt.subplots(figsize = (15,5))\n",
    "    if(i < 41): \n",
    "        plt.title('Variável XMEAS-{}'.format(i))\n",
    "    else:\n",
    "        plt.title('Variável XMV-{}'.format(i-41))\n",
    "    plt.plot(x[:,i], color ='black')\n",
    "    plt.plot(std1[:,i],'g',label = 'deviation +')\n",
    "    plt.plot(std2[:,i],'g',label = 'deviation -')\n",
    "    plt.plot(q[:,i],'r' ,label = 'avg')\n",
    "    plt.legend(loc = 'lower right')\n",
    "    if(i < 41):    \n",
    "        plt.savefig('/home/jose/Dropbox/Computação/TCC/TE_process/dat0/XMEAS-{}.pdf'.format(i))\n",
    "    else:\n",
    "        plt.savefig('/home/jose/Dropbox/Computação/TCC/TE_process/dat0/XMV-{}.pdf'.format(i))\n",
    "    plt.close(fig)"
   ]
  },
  {
   "cell_type": "code",
   "execution_count": null,
   "metadata": {
    "collapsed": true
   },
   "outputs": [],
   "source": []
  },
  {
   "cell_type": "code",
   "execution_count": null,
   "metadata": {
    "collapsed": true
   },
   "outputs": [],
   "source": []
  },
  {
   "cell_type": "code",
   "execution_count": null,
   "metadata": {
    "collapsed": true
   },
   "outputs": [],
   "source": []
  }
 ],
 "metadata": {
  "anaconda-cloud": {},
  "kernelspec": {
   "display_name": "Python [default]",
   "language": "python",
   "name": "python3"
  },
  "language_info": {
   "codemirror_mode": {
    "name": "ipython",
    "version": 3
   },
   "file_extension": ".py",
   "mimetype": "text/x-python",
   "name": "python",
   "nbconvert_exporter": "python",
   "pygments_lexer": "ipython3",
   "version": "3.5.2"
  }
 },
 "nbformat": 4,
 "nbformat_minor": 1
}
